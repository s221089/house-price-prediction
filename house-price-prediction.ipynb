
  },
  {
   "cell_type": "code",
   "execution_count": 1,
   "id": "02c21516",
   "metadata": {
    "execution": {
     "iopub.execute_input": "2025-07-24T07:09:30.661176Z",
     "iopub.status.busy": "2025-07-24T07:09:30.660979Z",
     "iopub.status.idle": "2025-07-24T07:09:40.820809Z",
     "shell.execute_reply": "2025-07-24T07:09:40.820229Z"
    },
    "papermill": {
     "duration": 10.163228,
     "end_time": "2025-07-24T07:09:40.822116",
     "exception": false,
     "start_time": "2025-07-24T07:09:30.658888",
     "status": "completed"
    },
    "tags": []
   },
   "outputs": [],
   "source": [
    "import pandas as pd\n",
    "import numpy as np\n",
    "from lightgbm import LGBMRegressor\n",
    "from sklearn.metrics import mean_squared_error\n",
    "from sklearn.model_selection import KFold\n",
    "\n",
    "# データ読み込み\n",
    "train_df = pd.read_csv('/kaggle/input/house-prices-advanced-regression-techniques/train.csv')\n",
    "test_df = pd.read_csv('/kaggle/input/house-prices-advanced-regression-techniques/test.csv')\n",
    "\n",
    "# SalePriceを取り出しておく\n",
    "y_train = train_df['SalePrice']\n",
    "\n"
   ]
  },
  {
   "cell_type": "code",
   "execution_count": 2,
   "id": "72a1d7ba",
   "metadata": {
    "execution": {
     "iopub.execute_input": "2025-07-24T07:09:40.826732Z",
     "iopub.status.busy": "2025-07-24T07:09:40.826492Z",
     "iopub.status.idle": "2025-07-24T07:09:40.903280Z",
     "shell.execute_reply": "2025-07-24T07:09:40.902729Z"
    },
    "papermill": {
     "duration": 0.080399,
     "end_time": "2025-07-24T07:09:40.904513",
     "exception": false,
     "start_time": "2025-07-24T07:09:40.824114",
     "status": "completed"
    },
    "tags": []
   },
   "outputs": [],
   "source": [
    "# 'Id' は不要\n",
    "train = train_df.drop(['Id', 'SalePrice'], axis=1)\n",
    "test = test_df.drop(['Id'], axis=1)\n",
    "\n",
    "# trainとtestを結合（同じ変換をかけるため）\n",
    "all_data = pd.concat([train, test], axis=0)\n",
    "\n",
    "# 欠損補完（シンプルな戦略）\n",
    "for col in all_data.select_dtypes(include='object'):\n",
    "    all_data[col] = all_data[col].fillna('None')\n",
    "\n",
    "for col in all_data.select_dtypes(exclude='object'):\n",
    "    all_data[col] = all_data[col].fillna(0)\n",
    "\n",
    "# One-hot encoding\n",
    "all_data_encoded = pd.get_dummies(all_data)\n",
    "\n",
    "# train/testに分割し直す\n",
    "X_train = all_data_encoded[:len(train_df)]\n",
    "X_test = all_data_encoded[len(train_df):]\n"
   ]
  },
  {
   "cell_type": "code",
   "execution_count": 3,
   "id": "ab7037da",
   "metadata": {
    "execution": {
     "iopub.execute_input": "2025-07-24T07:09:40.908962Z",
     "iopub.status.busy": "2025-07-24T07:09:40.908741Z",
     "iopub.status.idle": "2025-07-24T07:09:40.926774Z",
     "shell.execute_reply": "2025-07-24T07:09:40.926284Z"
    },
    "papermill": {
     "duration": 0.02141,
     "end_time": "2025-07-24T07:09:40.927788",
     "exception": false,
     "start_time": "2025-07-24T07:09:40.906378",
     "status": "completed"
    },
    "tags": []
   },
   "outputs": [],
   "source": [
    "# log変換\n",
    "y_log = np.log1p(y_train)\n",
    "\n",
    "# reset_indexしてインデックス揃える\n",
    "X_train = X_train.reset_index(drop=True)\n",
    "y_log = y_log.reset_index(drop=True)\n",
    "\n",
    "# 外れ値除去\n",
    "outlier_index = X_train['GrLivArea'] > 4600\n",
    "X_train_cleaned = X_train[~outlier_index].copy()\n",
    "y_log_cleaned = y_log[~outlier_index].copy()\n",
    "\n"
   ]
  },
  {
   "cell_type": "code",
   "execution_count": 4,
   "id": "d45d44ad",
   "metadata": {
    "execution": {
     "iopub.execute_input": "2025-07-24T07:09:40.931887Z",
     "iopub.status.busy": "2025-07-24T07:09:40.931678Z",
     "iopub.status.idle": "2025-07-24T07:09:41.173856Z",
     "shell.execute_reply": "2025-07-24T07:09:41.173004Z"
    },
    "papermill": {
     "duration": 0.245625,
     "end_time": "2025-07-24T07:09:41.175132",
     "exception": false,
     "start_time": "2025-07-24T07:09:40.929507",
     "status": "completed"
    },
    "tags": []
   },
   "outputs": [
    {
     "name": "stdout",
     "output_type": "stream",
     "text": [
      "[LightGBM] [Warning] Found whitespace in feature_names, replace with underlines\n",
      "[LightGBM] [Info] Auto-choosing row-wise multi-threading, the overhead of testing was 0.004118 seconds.\n",
      "You can set `force_row_wise=true` to remove the overhead.\n",
      "And if memory is not enough, you can set `force_col_wise=true`.\n",
      "[LightGBM] [Info] Total Bins 3479\n",
      "[LightGBM] [Info] Number of data points in the train set: 1458, number of used features: 202\n",
      "[LightGBM] [Info] Start training from score 12.024015\n"
     ]
    }
   ],
   "source": [
    "model_temp = LGBMRegressor(n_estimators=100, random_state=42)\n",
    "model_temp.fit(X_train_cleaned, y_log_cleaned)\n",
    "\n",
    "# 重要度上位40\n",
    "feature_importance = model_temp.feature_importances_\n",
    "feature_names = X_train_cleaned.columns\n",
    "top_indices = np.argsort(feature_importance)[::-1][:40]\n",
    "selected_features = feature_names[top_indices].tolist()\n",
    "\n",
    "\n"
   ]
  },
  {
   "cell_type": "code",
   "execution_count": 5,
   "id": "6bfbb437",
   "metadata": {
    "execution": {
     "iopub.execute_input": "2025-07-24T07:09:41.180255Z",
     "iopub.status.busy": "2025-07-24T07:09:41.179708Z",
     "iopub.status.idle": "2025-07-24T07:09:41.334683Z",
     "shell.execute_reply": "2025-07-24T07:09:41.334056Z"
    },
    "papermill": {
     "duration": 0.158557,
     "end_time": "2025-07-24T07:09:41.335782",
     "exception": false,
     "start_time": "2025-07-24T07:09:41.177225",
     "status": "completed"
    },
    "tags": []
   },
   "outputs": [
    {
     "name": "stdout",
     "output_type": "stream",
     "text": [
      "[LightGBM] [Info] Auto-choosing row-wise multi-threading, the overhead of testing was 0.000316 seconds.\n",
      "You can set `force_row_wise=true` to remove the overhead.\n",
      "And if memory is not enough, you can set `force_col_wise=true`.\n",
      "[LightGBM] [Info] Total Bins 3076\n",
      "[LightGBM] [Info] Number of data points in the train set: 1458, number of used features: 40\n",
      "[LightGBM] [Info] Start training from score 12.024015\n"
     ]
    }
   ],
   "source": [
    "# 特徴量を絞る\n",
    "X_train_top_clean = X_train_cleaned[selected_features]\n",
    "X_test_top = X_test[selected_features]\n",
    "\n",
    "# 最終モデル学習\n",
    "model_final = LGBMRegressor(n_estimators=100, random_state=42)\n",
    "model_final.fit(X_train_top_clean, y_log_cleaned)\n",
    "\n",
    "# 予測（逆log変換）\n",
    "y_test_pred_log = model_final.predict(X_test_top)\n",
    "y_test_pred = np.expm1(y_test_pred_log)\n",
    "\n",
    "# 提出ファイル作成\n",
    "submission = pd.DataFrame({\n",
    "    'Id': test_df['Id'],\n",
    "    'SalePrice': y_test_pred\n",
    "})\n",
    "submission.to_csv('submission.csv', index=False)\n"
   ]
  },
  {
   "cell_type": "code",
   "execution_count": 6,
   "id": "3ed1eaf2",
   "metadata": {
    "execution": {
     "iopub.execute_input": "2025-07-24T07:09:41.340099Z",
     "iopub.status.busy": "2025-07-24T07:09:41.339925Z",
     "iopub.status.idle": "2025-07-24T07:09:41.915699Z",
     "shell.execute_reply": "2025-07-24T07:09:41.915053Z"
    },
    "papermill": {
     "duration": 0.579145,
     "end_time": "2025-07-24T07:09:41.916758",
     "exception": false,
     "start_time": "2025-07-24T07:09:41.337613",
     "status": "completed"
    },
    "tags": []
   },
   "outputs": [
    {
     "name": "stdout",
     "output_type": "stream",
     "text": [
      "[LightGBM] [Info] Auto-choosing row-wise multi-threading, the overhead of testing was 0.000195 seconds.\n",
      "You can set `force_row_wise=true` to remove the overhead.\n",
      "And if memory is not enough, you can set `force_col_wise=true`.\n",
      "[LightGBM] [Info] Total Bins 2834\n",
      "[LightGBM] [Info] Number of data points in the train set: 1166, number of used features: 40\n",
      "[LightGBM] [Info] Start training from score 12.023362\n",
      "[LightGBM] [Info] Auto-choosing row-wise multi-threading, the overhead of testing was 0.000190 seconds.\n",
      "You can set `force_row_wise=true` to remove the overhead.\n",
      "And if memory is not enough, you can set `force_col_wise=true`.\n",
      "[LightGBM] [Info] Total Bins 2837\n",
      "[LightGBM] [Info] Number of data points in the train set: 1166, number of used features: 40\n",
      "[LightGBM] [Info] Start training from score 12.026498\n",
      "[LightGBM] [Info] Auto-choosing row-wise multi-threading, the overhead of testing was 0.000199 seconds.\n",
      "You can set `force_row_wise=true` to remove the overhead.\n",
      "And if memory is not enough, you can set `force_col_wise=true`.\n",
      "[LightGBM] [Info] Total Bins 2839\n",
      "[LightGBM] [Info] Number of data points in the train set: 1166, number of used features: 40\n",
      "[LightGBM] [Info] Start training from score 12.025399\n",
      "[LightGBM] [Info] Auto-choosing row-wise multi-threading, the overhead of testing was 0.000194 seconds.\n",
      "You can set `force_row_wise=true` to remove the overhead.\n",
      "And if memory is not enough, you can set `force_col_wise=true`.\n",
      "[LightGBM] [Info] Total Bins 2849\n",
      "[LightGBM] [Info] Number of data points in the train set: 1167, number of used features: 40\n",
      "[LightGBM] [Info] Start training from score 12.024512\n",
      "[LightGBM] [Info] Auto-choosing row-wise multi-threading, the overhead of testing was 0.000198 seconds.\n",
      "You can set `force_row_wise=true` to remove the overhead.\n",
      "And if memory is not enough, you can set `force_col_wise=true`.\n",
      "[LightGBM] [Info] Total Bins 2840\n",
      "[LightGBM] [Info] Number of data points in the train set: 1167, number of used features: 40\n",
      "[LightGBM] [Info] Start training from score 12.020308\n",
      "CV RMSE scores: ['23245.32', '26289.59', '24442.29', '27104.02', '26023.95']\n",
      "CV RMSE avg: 25421.03\n"
     ]
    }
   ],
   "source": [
    "kf = KFold(n_splits=5, shuffle=True, random_state=42)\n",
    "rmse_scores = []\n",
    "\n",
    "for train_index, val_index in kf.split(X_train_top_clean):\n",
    "    X_tr, X_val = X_train_top_clean.iloc[train_index], X_train_top_clean.iloc[val_index]\n",
    "    y_tr, y_val = y_log_cleaned.iloc[train_index], y_log_cleaned.iloc[val_index]\n",
    "\n",
    "    model_cv = LGBMRegressor(n_estimators=100, random_state=42)\n",
    "    model_cv.fit(X_tr, y_tr)\n",
    "\n",
    "    y_pred = model_cv.predict(X_val)\n",
    "    rmse = mean_squared_error(np.expm1(y_val), np.expm1(y_pred), squared=False)\n",
    "    rmse_scores.append(rmse)\n",
    "\n",
    "print(\"CV RMSE scores:\", [f\"{s:.2f}\" for s in rmse_scores])\n",
    "print(f\"CV RMSE avg: {np.mean(rmse_scores):.2f}\")\n"
   ]
  }
 ],
 "metadata": {
  "kaggle": {
   "accelerator": "nvidiaTeslaT4",
   "dataSources": [
    {
     "databundleVersionId": 868283,
     "sourceId": 5407,
     "sourceType": "competition"
    }
   ],
   "dockerImageVersionId": 31090,
   "isGpuEnabled": true,
   "isInternetEnabled": true,
   "language": "python",
   "sourceType": "notebook"
  },
  "kernelspec": {
   "display_name": "Python 3",
   "language": "python",
   "name": "python3"
  },
  "language_info": {
   "codemirror_mode": {
    "name": "ipython",
    "version": 3
   },
   "file_extension": ".py",
   "mimetype": "text/x-python",
   "name": "python",
   "nbconvert_exporter": "python",
   "pygments_lexer": "ipython3",
   "version": "3.11.13"
  },
  "papermill": {
   "default_parameters": {},
   "duration": 17.399488,
   "end_time": "2025-07-24T07:09:42.536425",
   "environment_variables": {},
   "exception": null,
   "input_path": "__notebook__.ipynb",
   "output_path": "__notebook__.ipynb",
   "parameters": {},
   "start_time": "2025-07-24T07:09:25.136937",
   "version": "2.6.0"
  }
 },
 "nbformat": 4,
 "nbformat_minor": 5
}
